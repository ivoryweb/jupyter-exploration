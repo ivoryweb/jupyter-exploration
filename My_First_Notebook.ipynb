{
 "cells": [
  {
   "cell_type": "code",
   "execution_count": 1,
   "id": "4d23d5a4",
   "metadata": {},
   "outputs": [
    {
     "name": "stdout",
     "output_type": "stream",
     "text": [
      "Hello World!\n"
     ]
    }
   ],
   "source": [
    "print(\"Hello World!\")"
   ]
  },
  {
   "cell_type": "markdown",
   "id": "0195120d",
   "metadata": {},
   "source": [
    "(\"my first mark down cell\")"
   ]
  },
  {
   "cell_type": "code",
   "execution_count": 7,
   "id": "636f9b34",
   "metadata": {},
   "outputs": [
    {
     "name": "stdout",
     "output_type": "stream",
     "text": [
      "a code cell allows you to edit and write new code, with full syntax highlighting and tab completion\n"
     ]
    }
   ],
   "source": [
    "print(\"a code cell allows you to edit and write new code, with full syntax highlighting and tab completion\")"
   ]
  },
  {
   "cell_type": "markdown",
   "id": "f8431eba",
   "metadata": {},
   "source": [
    "(\"a mardkdown cell is text that should not be treated as code and formatted using markdown language\")"
   ]
  }
 ],
 "metadata": {
  "kernelspec": {
   "display_name": "Python 3 (ipykernel)",
   "language": "python",
   "name": "python3"
  },
  "language_info": {
   "codemirror_mode": {
    "name": "ipython",
    "version": 3
   },
   "file_extension": ".py",
   "mimetype": "text/x-python",
   "name": "python",
   "nbconvert_exporter": "python",
   "pygments_lexer": "ipython3",
   "version": "3.11.5"
  }
 },
 "nbformat": 4,
 "nbformat_minor": 5
}
